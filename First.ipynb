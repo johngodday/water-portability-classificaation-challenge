{
 "cells": [
  {
   "cell_type": "code",
   "execution_count": 1,
   "metadata": {},
   "outputs": [],
   "source": [
    "import pandas as pd\n",
    "import numpy as np\n",
    "import matplotlib.pyplot as plt\n",
    "import seaborn as sns\n",
    "import warnings\n",
    "warnings.filterwarnings('ignore')\n",
    "\n",
    "pd.set_option('Max_column', None)"
   ]
  },
  {
   "cell_type": "markdown",
   "metadata": {},
   "source": [
    "##### Import Data"
   ]
  },
  {
   "cell_type": "code",
   "execution_count": 2,
   "metadata": {},
   "outputs": [
    {
     "name": "stdout",
     "output_type": "stream",
     "text": [
      "train set shape (2260, 11)\n",
      "test set shape (1016, 10)\n"
     ]
    }
   ],
   "source": [
    "train = pd.read_csv('Train.csv')\n",
    "test = pd.read_csv('Test.csv')\n",
    "print(f\"train set shape {train.shape}\\ntest set shape {test.shape}\")"
   ]
  },
  {
   "cell_type": "code",
   "execution_count": 3,
   "metadata": {},
   "outputs": [
    {
     "data": {
      "text/html": [
       "<div>\n",
       "<style scoped>\n",
       "    .dataframe tbody tr th:only-of-type {\n",
       "        vertical-align: middle;\n",
       "    }\n",
       "\n",
       "    .dataframe tbody tr th {\n",
       "        vertical-align: top;\n",
       "    }\n",
       "\n",
       "    .dataframe thead th {\n",
       "        text-align: right;\n",
       "    }\n",
       "</style>\n",
       "<table border=\"1\" class=\"dataframe\">\n",
       "  <thead>\n",
       "    <tr style=\"text-align: right;\">\n",
       "      <th></th>\n",
       "      <th>region_area_</th>\n",
       "      <th>ph</th>\n",
       "      <th>Hardness</th>\n",
       "      <th>Solids</th>\n",
       "      <th>Chloramines</th>\n",
       "      <th>Sulfate</th>\n",
       "      <th>Conductivity</th>\n",
       "      <th>Organic_carbon</th>\n",
       "      <th>Trihalomethanes</th>\n",
       "      <th>Turbidity</th>\n",
       "      <th>Potability</th>\n",
       "    </tr>\n",
       "  </thead>\n",
       "  <tbody>\n",
       "    <tr>\n",
       "      <th>0</th>\n",
       "      <td>region_area_1</td>\n",
       "      <td>3.716080</td>\n",
       "      <td>180.196811</td>\n",
       "      <td>18630.362669</td>\n",
       "      <td>6.330435</td>\n",
       "      <td>NaN</td>\n",
       "      <td>602.990359</td>\n",
       "      <td>15.285013</td>\n",
       "      <td>56.444076</td>\n",
       "      <td>4.500656</td>\n",
       "      <td>0</td>\n",
       "    </tr>\n",
       "    <tr>\n",
       "      <th>1</th>\n",
       "      <td>region_area_100</td>\n",
       "      <td>4.270716</td>\n",
       "      <td>217.611599</td>\n",
       "      <td>24405.555346</td>\n",
       "      <td>7.086700</td>\n",
       "      <td>297.951852</td>\n",
       "      <td>359.623910</td>\n",
       "      <td>13.583526</td>\n",
       "      <td>54.589840</td>\n",
       "      <td>3.763906</td>\n",
       "      <td>0</td>\n",
       "    </tr>\n",
       "    <tr>\n",
       "      <th>2</th>\n",
       "      <td>region_area_1000</td>\n",
       "      <td>6.648849</td>\n",
       "      <td>232.462013</td>\n",
       "      <td>30733.808648</td>\n",
       "      <td>5.656462</td>\n",
       "      <td>344.670335</td>\n",
       "      <td>267.809179</td>\n",
       "      <td>17.863444</td>\n",
       "      <td>35.411181</td>\n",
       "      <td>4.827527</td>\n",
       "      <td>0</td>\n",
       "    </tr>\n",
       "  </tbody>\n",
       "</table>\n",
       "</div>"
      ],
      "text/plain": [
       "       region_area_        ph    Hardness        Solids  Chloramines  \\\n",
       "0     region_area_1  3.716080  180.196811  18630.362669     6.330435   \n",
       "1   region_area_100  4.270716  217.611599  24405.555346     7.086700   \n",
       "2  region_area_1000  6.648849  232.462013  30733.808648     5.656462   \n",
       "\n",
       "      Sulfate  Conductivity  Organic_carbon  Trihalomethanes  Turbidity  \\\n",
       "0         NaN    602.990359       15.285013        56.444076   4.500656   \n",
       "1  297.951852    359.623910       13.583526        54.589840   3.763906   \n",
       "2  344.670335    267.809179       17.863444        35.411181   4.827527   \n",
       "\n",
       "   Potability  \n",
       "0           0  \n",
       "1           0  \n",
       "2           0  "
      ]
     },
     "execution_count": 3,
     "metadata": {},
     "output_type": "execute_result"
    }
   ],
   "source": [
    "train.head(3)"
   ]
  },
  {
   "cell_type": "markdown",
   "metadata": {},
   "source": [
    "### Check for Missing Values"
   ]
  },
  {
   "cell_type": "code",
   "execution_count": 4,
   "metadata": {},
   "outputs": [
    {
     "data": {
      "text/plain": [
       "region_area_         0\n",
       "ph                 336\n",
       "Hardness             0\n",
       "Solids               0\n",
       "Chloramines          0\n",
       "Sulfate            547\n",
       "Conductivity         0\n",
       "Organic_carbon       0\n",
       "Trihalomethanes    111\n",
       "Turbidity            0\n",
       "Potability           0\n",
       "dtype: int64"
      ]
     },
     "execution_count": 4,
     "metadata": {},
     "output_type": "execute_result"
    }
   ],
   "source": [
    "train.isnull().sum()"
   ]
  },
  {
   "cell_type": "code",
   "execution_count": 5,
   "metadata": {},
   "outputs": [
    {
     "data": {
      "text/plain": [
       "<AxesSubplot:>"
      ]
     },
     "execution_count": 5,
     "metadata": {},
     "output_type": "execute_result"
    },
    {
     "data": {
      "image/png": "[encoded data removed]",
      "text/plain": [
       "<Figure size 432x288 with 1 Axes>"
      ]
     },
     "metadata": {
      "needs_background": "light"
     },
     "output_type": "display_data"
    }
   ],
   "source": [
    "train['Trihalomethanes'].plot(kind = 'box')"
   ]
  },
  {
   "cell_type": "code",
   "execution_count": 6,
   "metadata": {},
   "outputs": [
    {
     "data": {
      "text/plain": [
       "<AxesSubplot:>"
      ]
     },
     "execution_count": 6,
     "metadata": {},
     "output_type": "execute_result"
    },
    {
     "data": {
      "image/png": "[encoded data removed]",
      "text/plain": [
       "<Figure size 432x288 with 1 Axes>"
      ]
     },
     "metadata": {
      "needs_background": "light"
     },
     "output_type": "display_data"
    }
   ],
   "source": [
    "train['Potability'].value_counts().plot(kind = 'bar')"
   ]
  },
  {
   "cell_type": "markdown",
   "metadata": {},
   "source": [
    "### Creat New Columns"
   ]
  },
  {
   "cell_type": "code",
   "execution_count": 7,
   "metadata": {},
   "outputs": [],
   "source": [
    "def phStatus(row):\n",
    "    if row < 6:\n",
    "        value = 'Acidic'\n",
    "    elif (row >= 6 or row == 7):\n",
    "        value = 'Normal'\n",
    "    elif row > 7:\n",
    "        value = 'Alkaline'\n",
    "    else:\n",
    "        value = 'missing'\n",
    "    return value\n",
    "\n",
    "\n",
    "def hardness(row):\n",
    "    if row < 120:\n",
    "        value = 'Soft'\n",
    "    elif (row >= 120 or row == 120):\n",
    "        value = 'Moderately Hard'\n",
    "    else:\n",
    "        value = 'Hard'\n",
    "    return value"
   ]
  },
  {
   "cell_type": "code",
   "execution_count": 8,
   "metadata": {},
   "outputs": [],
   "source": [
    "col = [ 'ph', 'Hardness', 'Solids', 'Chloramines', 'Sulfate','Conductivity', 'Organic_carbon', 'Trihalomethanes', 'Turbidity',]\n",
    "for x in col:\n",
    "    train[x + '_' + '100']  = train[x] / 100\n",
    "    test[x + '_' + '100']  = test[x] / 100"
   ]
  },
  {
   "cell_type": "code",
   "execution_count": 9,
   "metadata": {},
   "outputs": [],
   "source": [
    "train['phStatus'] = train['ph'].round().apply(phStatus)\n",
    "test['phStatus'] = test['ph'].round().apply(phStatus)"
   ]
  },
  {
   "cell_type": "code",
   "execution_count": 10,
   "metadata": {},
   "outputs": [
    {
     "data": {
      "text/html": [
       "<div>\n",
       "<style scoped>\n",
       "    .dataframe tbody tr th:only-of-type {\n",
       "        vertical-align: middle;\n",
       "    }\n",
       "\n",
       "    .dataframe tbody tr th {\n",
       "        vertical-align: top;\n",
       "    }\n",
       "\n",
       "    .dataframe thead th {\n",
       "        text-align: right;\n",
       "    }\n",
       "</style>\n",
       "<table border=\"1\" class=\"dataframe\">\n",
       "  <thead>\n",
       "    <tr style=\"text-align: right;\">\n",
       "      <th></th>\n",
       "      <th>region_area_</th>\n",
       "      <th>ph</th>\n",
       "      <th>Hardness</th>\n",
       "      <th>Solids</th>\n",
       "      <th>Chloramines</th>\n",
       "      <th>Sulfate</th>\n",
       "      <th>Conductivity</th>\n",
       "      <th>Organic_carbon</th>\n",
       "      <th>Trihalomethanes</th>\n",
       "      <th>Turbidity</th>\n",
       "      <th>Potability</th>\n",
       "      <th>ph_100</th>\n",
       "      <th>Hardness_100</th>\n",
       "      <th>Solids_100</th>\n",
       "      <th>Chloramines_100</th>\n",
       "      <th>Sulfate_100</th>\n",
       "      <th>Conductivity_100</th>\n",
       "      <th>Organic_carbon_100</th>\n",
       "      <th>Trihalomethanes_100</th>\n",
       "      <th>Turbidity_100</th>\n",
       "      <th>phStatus</th>\n",
       "    </tr>\n",
       "  </thead>\n",
       "  <tbody>\n",
       "    <tr>\n",
       "      <th>0</th>\n",
       "      <td>region_area_1</td>\n",
       "      <td>3.716080</td>\n",
       "      <td>180.196811</td>\n",
       "      <td>18630.362669</td>\n",
       "      <td>6.330435</td>\n",
       "      <td>NaN</td>\n",
       "      <td>602.990359</td>\n",
       "      <td>15.285013</td>\n",
       "      <td>56.444076</td>\n",
       "      <td>4.500656</td>\n",
       "      <td>0</td>\n",
       "      <td>0.037161</td>\n",
       "      <td>1.801968</td>\n",
       "      <td>186.303627</td>\n",
       "      <td>0.063304</td>\n",
       "      <td>NaN</td>\n",
       "      <td>6.029904</td>\n",
       "      <td>0.152850</td>\n",
       "      <td>0.564441</td>\n",
       "      <td>0.045007</td>\n",
       "      <td>Acidic</td>\n",
       "    </tr>\n",
       "    <tr>\n",
       "      <th>1</th>\n",
       "      <td>region_area_100</td>\n",
       "      <td>4.270716</td>\n",
       "      <td>217.611599</td>\n",
       "      <td>24405.555346</td>\n",
       "      <td>7.086700</td>\n",
       "      <td>297.951852</td>\n",
       "      <td>359.623910</td>\n",
       "      <td>13.583526</td>\n",
       "      <td>54.589840</td>\n",
       "      <td>3.763906</td>\n",
       "      <td>0</td>\n",
       "      <td>0.042707</td>\n",
       "      <td>2.176116</td>\n",
       "      <td>244.055553</td>\n",
       "      <td>0.070867</td>\n",
       "      <td>2.979519</td>\n",
       "      <td>3.596239</td>\n",
       "      <td>0.135835</td>\n",
       "      <td>0.545898</td>\n",
       "      <td>0.037639</td>\n",
       "      <td>Acidic</td>\n",
       "    </tr>\n",
       "    <tr>\n",
       "      <th>2</th>\n",
       "      <td>region_area_1000</td>\n",
       "      <td>6.648849</td>\n",
       "      <td>232.462013</td>\n",
       "      <td>30733.808648</td>\n",
       "      <td>5.656462</td>\n",
       "      <td>344.670335</td>\n",
       "      <td>267.809179</td>\n",
       "      <td>17.863444</td>\n",
       "      <td>35.411181</td>\n",
       "      <td>4.827527</td>\n",
       "      <td>0</td>\n",
       "      <td>0.066488</td>\n",
       "      <td>2.324620</td>\n",
       "      <td>307.338086</td>\n",
       "      <td>0.056565</td>\n",
       "      <td>3.446703</td>\n",
       "      <td>2.678092</td>\n",
       "      <td>0.178634</td>\n",
       "      <td>0.354112</td>\n",
       "      <td>0.048275</td>\n",
       "      <td>Normal</td>\n",
       "    </tr>\n",
       "  </tbody>\n",
       "</table>\n",
       "</div>"
      ],
      "text/plain": [
       "       region_area_        ph    Hardness        Solids  Chloramines  \\\n",
       "0     region_area_1  3.716080  180.196811  18630.362669     6.330435   \n",
       "1   region_area_100  4.270716  217.611599  24405.555346     7.086700   \n",
       "2  region_area_1000  6.648849  232.462013  30733.808648     5.656462   \n",
       "\n",
       "      Sulfate  Conductivity  Organic_carbon  Trihalomethanes  Turbidity  \\\n",
       "0         NaN    602.990359       15.285013        56.444076   4.500656   \n",
       "1  297.951852    359.623910       13.583526        54.589840   3.763906   \n",
       "2  344.670335    267.809179       17.863444        35.411181   4.827527   \n",
       "\n",
       "   Potability    ph_100  Hardness_100  Solids_100  Chloramines_100  \\\n",
       "0           0  0.037161      1.801968  186.303627         0.063304   \n",
       "1           0  0.042707      2.176116  244.055553         0.070867   \n",
       "2           0  0.066488      2.324620  307.338086         0.056565   \n",
       "\n",
       "   Sulfate_100  Conductivity_100  Organic_carbon_100  Trihalomethanes_100  \\\n",
       "0          NaN          6.029904            0.152850             0.564441   \n",
       "1     2.979519          3.596239            0.135835             0.545898   \n",
       "2     3.446703          2.678092            0.178634             0.354112   \n",
       "\n",
       "   Turbidity_100 phStatus  \n",
       "0       0.045007   Acidic  \n",
       "1       0.037639   Acidic  \n",
       "2       0.048275   Normal  "
      ]
     },
     "execution_count": 10,
     "metadata": {},
     "output_type": "execute_result"
    }
   ],
   "source": [
    "train.head(3)"
   ]
  },
  {
   "cell_type": "markdown",
   "metadata": {},
   "source": [
    "### Modelling"
   ]
  },
  {
   "cell_type": "code",
   "execution_count": 11,
   "metadata": {},
   "outputs": [],
   "source": [
    "from sklearn.model_selection import train_test_split, cross_val_score, RepeatedStratifiedKFold\n",
    "X = train.drop(['region_area_', 'Potability'], axis = 1)\n",
    "y = train.Potability\n",
    "xtest = test.drop(['region_area_'], axis = 1)\n",
    "\n",
    "\n",
    "x_train, x_test, y_train, y_test = train_test_split(X, y, test_size = 0.1, stratify = y, random_state = 2000)"
   ]
  },
  {
   "cell_type": "code",
   "execution_count": 12,
   "metadata": {},
   "outputs": [],
   "source": [
    "#pip Install Feature_engine and Mlxtend\n",
    "from feature_engine.imputation import MeanMedianImputer, CategoricalImputer\n",
    "from feature_engine.encoding import CountFrequencyEncoder, OneHotEncoder\n",
    "from feature_engine.outliers import Winsorizer\n",
    "from sklearn.preprocessing import StandardScaler, QuantileTransformer, PolynomialFeatures\n",
    "from feature_engine.selection import RecursiveFeatureElimination,SelectBySingleFeaturePerformance\n",
    "\n",
    "from sklearn.metrics import roc_auc_score, f1_score\n",
    "from sklearn.pipeline import Pipeline,make_pipeline\n",
    "from sklearn.ensemble import  GradientBoostingClassifier,RandomForestClassifier, VotingClassifier, StackingClassifier\n",
    "from mlxtend.classifier import StackingCVClassifier\n",
    "from sklearn.linear_model import Lasso, RidgeClassifier, LogisticRegression\n",
    "import lightgbm as lgbm\n",
    "import xgboost as xgb\n",
    "from catboost import CatBoostClassifier\n",
    "\n",
    "\n",
    "#Filling Missing Values\n",
    "mean_imputer = MeanMedianImputer(imputation_method = 'mean')\n",
    "median_imputer = MeanMedianImputer(imputation_method = 'median')\n",
    "cat_imputer = CategoricalImputer(imputation_method = 'frequent')\n",
    "cat_imputer_2 = CategoricalImputer(imputation_method = 'missing')\n",
    "\n",
    "#Outliers\n",
    "capper = Winsorizer(capping_method='iqr', tail='right', fold=3, variables = ['ph', 'Hardness', 'Solids', \n",
    "                      'Chloramines', 'Sulfate', 'Conductivity', 'Organic_carbon', 'Trihalomethanes', 'Turbidity',])\n",
    "\n",
    "#Hadling categorical variables\n",
    "fre_enc = CountFrequencyEncoder(encoding_method='frequency', variables =['phStatus',],\n",
    "                               ignore_format = True)\n",
    "one_enc = OneHotEncoder(variables =['phStatus',], drop_last = True)\n",
    "\n",
    "#scaling\n",
    "scale = QuantileTransformer()\n",
    "sd = StandardScaler()\n",
    "#PolynomialFeatures\n",
    "poly = PolynomialFeatures(degree = 2, interaction_only=True, include_bias=False)\n",
    "\n",
    "\n",
    "#Model Initialization\n",
    "lgb_model = lgbm.LGBMClassifier(learning_rate = 0.09,num_leaves = 20, n_estimators = 50, class_weight = {0:0.1,1:0.9})\n",
    "xgb_model = xgb.XGBClassifier(eval_metric ='logloss',objective = 'binary:logistic', learning_rate = 0.05, n_estimators = 100,\n",
    "                              max_depth = 5, scale_pos_weight=4)\n",
    "gbt_model = GradientBoostingClassifier(n_estimators= 50, learning_rate= 0.1,max_depth= 30, random_state=0)\n",
    "cat_model = CatBoostClassifier(verbose=False,learning_rate = 0.1, iterations = 100, max_depth = 6)\n",
    "lr_model = LogisticRegression(C= 100,  penalty = 'l2', class_weight = {0:0.2,1:0.8})\n",
    "rf_model = RandomForestClassifier(n_estimators = 100,)\n",
    "ridge_model = RidgeClassifier(alpha = 100, class_weight = {0:0.1,1:0.9})\n",
    "\n",
    "\n",
    "#feature selection\n",
    "tr = SelectBySingleFeaturePerformance(estimator=lr_model, scoring=\"f1\", threshold=0.09, cv=5)"
   ]
  },
  {
   "cell_type": "markdown",
   "metadata": {},
   "source": [
    "### Pipelines"
   ]
  },
  {
   "cell_type": "code",
   "execution_count": 13,
   "metadata": {},
   "outputs": [],
   "source": [
    "pipe = Pipeline(\n",
    "    [('mean_imputer', mean_imputer),\n",
    "     ('fre_enc', fre_enc),\n",
    "     ('poly', poly),\n",
    "     ('model', lgb_model)\n",
    "    ]\n",
    ")\n",
    "\n",
    "pipe1 = Pipeline(\n",
    "    [('mean_imputer', mean_imputer),\n",
    "     ('fre_enc', fre_enc),\n",
    "     ('poly', poly),\n",
    "     ('model', cat_model)\n",
    "    ]\n",
    ")\n",
    "\n",
    "pipe2 = Pipeline(\n",
    "    [('mean_imputer', mean_imputer),\n",
    "     ('one_enc', one_enc),\n",
    "      ('poly', poly),\n",
    "     ('model', xgb_model)\n",
    "    ]\n",
    ")\n",
    "\n",
    "pipe3 = Pipeline(\n",
    "    [('mean_imputer', median_imputer),\n",
    "     ('fre_enc', fre_enc),\n",
    "     ('poly', poly),\n",
    "     ('sd', sd),\n",
    "     ('model', lr_model)\n",
    "    ]\n",
    ")\n",
    "\n",
    "pipe4 = Pipeline(\n",
    "    [('mean_imputer', median_imputer),\n",
    "     ('fre_enc', fre_enc),\n",
    "     ('sd', sd),\n",
    "     ('poly', poly),\n",
    "     ('model', ridge_model)\n",
    "    ]\n",
    ")"
   ]
  },
  {
   "cell_type": "code",
   "execution_count": 14,
   "metadata": {},
   "outputs": [],
   "source": [
    "vote_model = VotingClassifier(estimators = [('pipe', pipe), ('pipe2', pipe2), ('pipe3', pipe3),\n",
    "                                            ('pipe1', pipe1)], \n",
    "                              voting = 'soft', weights = [0.6, 0.2, 0.1, 0.1])"
   ]
  },
  {
   "cell_type": "code",
   "execution_count": 15,
   "metadata": {},
   "outputs": [],
   "source": [
    "stack_model = StackingClassifier(estimators= [('pipe', pipe), ('pipe1', pipe2), ('pipe4', pipe4), ('pipe3', pipe3)],\n",
    "                            final_estimator= pipe3, \n",
    "                            )"
   ]
  },
  {
   "cell_type": "code",
   "execution_count": 16,
   "metadata": {},
   "outputs": [
    {
     "data": {
      "text/plain": [
       "VotingClassifier(estimators=[('pipe',\n",
       "                              Pipeline(steps=[('mean_imputer',\n",
       "                                               MeanMedianImputer(imputation_method='mean')),\n",
       "                                              ('fre_enc',\n",
       "                                               CountFrequencyEncoder(encoding_method='frequency',\n",
       "                                                                     ignore_format=True,\n",
       "                                                                     variables=['phStatus'])),\n",
       "                                              ('poly',\n",
       "                                               PolynomialFeatures(include_bias=False,\n",
       "                                                                  interaction_only=True)),\n",
       "                                              ('model',\n",
       "                                               LGBMClassifier(class_weight={0: 0.1,\n",
       "                                                                            1: 0.9},\n",
       "                                                              learning_r...\n",
       "                              Pipeline(steps=[('mean_imputer',\n",
       "                                               MeanMedianImputer(imputation_method='mean')),\n",
       "                                              ('fre_enc',\n",
       "                                               CountFrequencyEncoder(encoding_method='frequency',\n",
       "                                                                     ignore_format=True,\n",
       "                                                                     variables=['phStatus'])),\n",
       "                                              ('poly',\n",
       "                                               PolynomialFeatures(include_bias=False,\n",
       "                                                                  interaction_only=True)),\n",
       "                                              ('model',\n",
       "                                               <catboost.core.CatBoostClassifier object at 0x000001790CF5CFD0>)]))],\n",
       "                 voting='soft', weights=[0.6, 0.2, 0.1, 0.1])"
      ]
     },
     "execution_count": 16,
     "metadata": {},
     "output_type": "execute_result"
    }
   ],
   "source": [
    "vote_model.fit(x_train, y_train)"
   ]
  },
  {
   "cell_type": "code",
   "execution_count": 17,
   "metadata": {},
   "outputs": [
    {
     "name": "stdout",
     "output_type": "stream",
     "text": [
      "AUC score on the train set is 0.690257754477938\n",
      "AUC score on the test set is 0.5971223021582734 \n"
     ]
    }
   ],
   "source": [
    "train_pred = vote_model.predict(x_train) \n",
    "test_pred = vote_model.predict(x_test)\n",
    "print(f\"AUC score on the train set is {f1_score(y_train, train_pred)}\\nAUC score on the test set is {f1_score(y_test, test_pred)} \")"
   ]
  },
  {
   "cell_type": "markdown",
   "metadata": {},
   "source": [
    "#### Fit on Entire Data"
   ]
  },
  {
   "cell_type": "code",
   "execution_count": 18,
   "metadata": {},
   "outputs": [
    {
     "data": {
      "text/plain": [
       "VotingClassifier(estimators=[('pipe',\n",
       "                              Pipeline(steps=[('mean_imputer',\n",
       "                                               MeanMedianImputer(imputation_method='mean')),\n",
       "                                              ('fre_enc',\n",
       "                                               CountFrequencyEncoder(encoding_method='frequency',\n",
       "                                                                     ignore_format=True,\n",
       "                                                                     variables=['phStatus'])),\n",
       "                                              ('poly',\n",
       "                                               PolynomialFeatures(include_bias=False,\n",
       "                                                                  interaction_only=True)),\n",
       "                                              ('model',\n",
       "                                               LGBMClassifier(class_weight={0: 0.1,\n",
       "                                                                            1: 0.9},\n",
       "                                                              learning_r...\n",
       "                              Pipeline(steps=[('mean_imputer',\n",
       "                                               MeanMedianImputer(imputation_method='mean')),\n",
       "                                              ('fre_enc',\n",
       "                                               CountFrequencyEncoder(encoding_method='frequency',\n",
       "                                                                     ignore_format=True,\n",
       "                                                                     variables=['phStatus'])),\n",
       "                                              ('poly',\n",
       "                                               PolynomialFeatures(include_bias=False,\n",
       "                                                                  interaction_only=True)),\n",
       "                                              ('model',\n",
       "                                               <catboost.core.CatBoostClassifier object at 0x000001790CF5CFD0>)]))],\n",
       "                 voting='soft', weights=[0.6, 0.2, 0.1, 0.1])"
      ]
     },
     "execution_count": 18,
     "metadata": {},
     "output_type": "execute_result"
    }
   ],
   "source": [
    "vote_model.fit(X, y)"
   ]
  },
  {
   "cell_type": "code",
   "execution_count": 19,
   "metadata": {},
   "outputs": [],
   "source": [
    "sub_test = vote_model.predict(xtest)"
   ]
  },
  {
   "cell_type": "code",
   "execution_count": 20,
   "metadata": {},
   "outputs": [
    {
     "data": {
      "text/html": [
       "<div>\n",
       "<style scoped>\n",
       "    .dataframe tbody tr th:only-of-type {\n",
       "        vertical-align: middle;\n",
       "    }\n",
       "\n",
       "    .dataframe tbody tr th {\n",
       "        vertical-align: top;\n",
       "    }\n",
       "\n",
       "    .dataframe thead th {\n",
       "        text-align: right;\n",
       "    }\n",
       "</style>\n",
       "<table border=\"1\" class=\"dataframe\">\n",
       "  <thead>\n",
       "    <tr style=\"text-align: right;\">\n",
       "      <th></th>\n",
       "      <th>region_area_</th>\n",
       "      <th>Potability</th>\n",
       "    </tr>\n",
       "  </thead>\n",
       "  <tbody>\n",
       "    <tr>\n",
       "      <th>0</th>\n",
       "      <td>region_area_0</td>\n",
       "      <td>1</td>\n",
       "    </tr>\n",
       "    <tr>\n",
       "      <th>1</th>\n",
       "      <td>region_area_10</td>\n",
       "      <td>1</td>\n",
       "    </tr>\n",
       "    <tr>\n",
       "      <th>2</th>\n",
       "      <td>region_area_1006</td>\n",
       "      <td>1</td>\n",
       "    </tr>\n",
       "  </tbody>\n",
       "</table>\n",
       "</div>"
      ],
      "text/plain": [
       "       region_area_  Potability\n",
       "0     region_area_0           1\n",
       "1    region_area_10           1\n",
       "2  region_area_1006           1"
      ]
     },
     "execution_count": 20,
     "metadata": {},
     "output_type": "execute_result"
    }
   ],
   "source": [
    "sub = pd.DataFrame({'region_area_': test['region_area_'], 'Potability': sub_test})\n",
    "sub.head(3)"
   ]
  },
  {
   "cell_type": "code",
   "execution_count": 21,
   "metadata": {},
   "outputs": [
    {
     "data": {
      "text/plain": [
       "1    831\n",
       "0    185\n",
       "Name: Potability, dtype: int64"
      ]
     },
     "execution_count": 21,
     "metadata": {},
     "output_type": "execute_result"
    }
   ],
   "source": [
    "sub.Potability.value_counts()"
   ]
  },
  {
   "cell_type": "markdown",
   "metadata": {},
   "source": [
    "### OR"
   ]
  },
  {
   "cell_type": "code",
   "execution_count": 22,
   "metadata": {},
   "outputs": [
    {
     "name": "stdout",
     "output_type": "stream",
     "text": [
      "err:  0.6992753623188406\n",
      "err:  0.595289079229122\n",
      "err:  0.6374501992031872\n",
      "err:  0.8273716951788491\n",
      "err:  0.5581395348837209\n"
     ]
    }
   ],
   "source": [
    "from sklearn.model_selection import RepeatedStratifiedKFold\n",
    "errcb2=[]\n",
    "y_pred_totcb2=[]\n",
    "from sklearn.model_selection import KFold,StratifiedKFold, TimeSeriesSplit\n",
    "fold=KFold(n_splits=5)\n",
    "i=1\n",
    "for train_index, test_index in fold.split(X,y):\n",
    "    X_train, X_test = X.iloc[train_index], X.iloc[test_index]\n",
    "    y_train, y_test = y[train_index], y[test_index]\n",
    "\n",
    "    preds= vote_model.predict(X_test)\n",
    "    print(\"err: \",f1_score(y_test,preds))\n",
    "    errcb2.append(f1_score(y_test,preds))\n",
    "    p2 = vote_model.predict(xtest)\n",
    "    y_pred_totcb2.append(p2)"
   ]
  },
  {
   "cell_type": "code",
   "execution_count": 24,
   "metadata": {},
   "outputs": [],
   "source": [
    "from scipy.stats import mode\n",
    "m = mode(y_pred_totcb2)[0]\n",
    "m = pd.Series(m[0])"
   ]
  },
  {
   "cell_type": "code",
   "execution_count": 25,
   "metadata": {},
   "outputs": [
    {
     "data": {
      "text/html": [
       "<div>\n",
       "<style scoped>\n",
       "    .dataframe tbody tr th:only-of-type {\n",
       "        vertical-align: middle;\n",
       "    }\n",
       "\n",
       "    .dataframe tbody tr th {\n",
       "        vertical-align: top;\n",
       "    }\n",
       "\n",
       "    .dataframe thead th {\n",
       "        text-align: right;\n",
       "    }\n",
       "</style>\n",
       "<table border=\"1\" class=\"dataframe\">\n",
       "  <thead>\n",
       "    <tr style=\"text-align: right;\">\n",
       "      <th></th>\n",
       "      <th>region_area_</th>\n",
       "      <th>Potability</th>\n",
       "    </tr>\n",
       "  </thead>\n",
       "  <tbody>\n",
       "    <tr>\n",
       "      <th>0</th>\n",
       "      <td>region_area_0</td>\n",
       "      <td>1</td>\n",
       "    </tr>\n",
       "    <tr>\n",
       "      <th>1</th>\n",
       "      <td>region_area_10</td>\n",
       "      <td>1</td>\n",
       "    </tr>\n",
       "    <tr>\n",
       "      <th>2</th>\n",
       "      <td>region_area_1006</td>\n",
       "      <td>1</td>\n",
       "    </tr>\n",
       "  </tbody>\n",
       "</table>\n",
       "</div>"
      ],
      "text/plain": [
       "       region_area_  Potability\n",
       "0     region_area_0           1\n",
       "1    region_area_10           1\n",
       "2  region_area_1006           1"
      ]
     },
     "execution_count": 25,
     "metadata": {},
     "output_type": "execute_result"
    }
   ],
   "source": [
    "sub1 = pd.DataFrame({'region_area_': test['region_area_'], 'Potability': m})\n",
    "sub1.head(3)"
   ]
  },
  {
   "cell_type": "code",
   "execution_count": 26,
   "metadata": {},
   "outputs": [
    {
     "data": {
      "text/plain": [
       "1    831\n",
       "0    185\n",
       "Name: Potability, dtype: int64"
      ]
     },
     "execution_count": 26,
     "metadata": {},
     "output_type": "execute_result"
    }
   ],
   "source": [
    "sub1.Potability.value_counts()"
   ]
  },
  {
   "cell_type": "code",
   "execution_count": null,
   "metadata": {},
   "outputs": [],
   "source": [
    "sub1.to_csv('vote1.csv', index = False)"
   ]
  }
 ],
 "metadata": {
  "kernelspec": {
   "display_name": "Python 3",
   "language": "python",
   "name": "python3"
  },
  "language_info": {
   "codemirror_mode": {
    "name": "ipython",
    "version": 3
   },
   "file_extension": ".py",
   "mimetype": "text/x-python",
   "name": "python",
   "nbconvert_exporter": "python",
   "pygments_lexer": "ipython3",
   "version": "3.8.5"
  }
 },
 "nbformat": 4,
 "nbformat_minor": 4
}
